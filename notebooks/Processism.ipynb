{
 "cells": [
  {
   "cell_type": "code",
   "execution_count": 1,
   "metadata": {},
   "outputs": [
    {
     "name": "stderr",
     "output_type": "stream",
     "text": [
      "/Users/ahmedhesham/Library/Python/3.9/lib/python/site-packages/urllib3/__init__.py:35: NotOpenSSLWarning: urllib3 v2 only supports OpenSSL 1.1.1+, currently the 'ssl' module is compiled with 'LibreSSL 2.8.3'. See: https://github.com/urllib3/urllib3/issues/3020\n",
      "  warnings.warn(\n"
     ]
    },
    {
     "data": {
      "text/html": [
       "<pre style=\"white-space:pre;overflow-x:auto;line-height:normal;font-family:Menlo,'DejaVu Sans Mono',consolas,'Courier New',monospace\">Manim Community <span style=\"color: #008000; text-decoration-color: #008000\">v0.18.0</span>\n",
       "\n",
       "</pre>\n"
      ],
      "text/plain": [
       "Manim Community \u001b[32mv0.\u001b[0m\u001b[32m18.0\u001b[0m\n",
       "\n"
      ]
     },
     "metadata": {},
     "output_type": "display_data"
    }
   ],
   "source": [
    "from manim import *"
   ]
  },
  {
   "cell_type": "code",
   "execution_count": 2,
   "metadata": {},
   "outputs": [
    {
     "name": "stderr",
     "output_type": "stream",
     "text": [
      "                                                                                      \r"
     ]
    },
    {
     "data": {
      "text/html": [
       "<video src=\"media/jupyter/processism@2024-04-23@20-09-20.mp4\" controls autoplay loop style=\"max-width: 60%;\"  >\n",
       "      Your browser does not support the <code>video</code> element.\n",
       "    </video>"
      ],
      "text/plain": [
       "<IPython.core.display.Video object>"
      ]
     },
     "metadata": {},
     "output_type": "display_data"
    }
   ],
   "source": [
    "%%manim -v ERROR --disable_caching -ql processism\n",
    "\n",
    "\n",
    "class processism(Scene):\n",
    "    def construct(self):\n",
    "        self.camera.background_color = GREY\n",
    "        scaler = 0.3\n",
    "        textScale = 0.5\n",
    "\n",
    "        circle1 = Circle(color=BLUE, fill_opacity=1).scale(scaler).to_edge(LEFT).shift(RIGHT,UP)\n",
    "        circle2 = Circle(color=BLUE, fill_opacity=1).scale(scaler).next_to(circle1, RIGHT).shift(RIGHT*2)\n",
    "        entity1 = Text(\"An entity\",color=BLACK).next_to(circle1, UP).scale(textScale)\n",
    "        circle3 = Circle(color=BLUE, fill_opacity=1).scale(scaler).next_to(circle2, DOWN).shift(DOWN*2)\n",
    "        circle4 = Circle(color=BLUE, fill_opacity=1).scale(scaler).next_to(circle1, DOWN).shift(DOWN*2)\n",
    "        relationArrow = DoubleArrow(circle1.get_right(), circle2.get_left(), buff=0.1, color=BLUE)\n",
    "        relationText = Text(\"A relation\",color=BLACK).next_to(relationArrow, UP).scale(textScale)\n",
    "        accumulation = Text(\"Accumulation\",color=BLACK).next_to(relationArrow, UP).scale(textScale)\n",
    "        circle2.shift(RIGHT*0.3)\n",
    "        relationArrow2 = DoubleArrow(circle1.get_bottom(), circle4.get_top(), buff=0.1, color=BLUE)\n",
    "        relationArrow3 = DoubleArrow(circle2.get_bottom(), circle3.get_top(), buff=0.1, color=BLUE)\n",
    "        relationArrow4 = DoubleArrow(circle3.get_left(), circle4.get_right(), buff=0.1, color=BLUE)\n",
    "        relationArrow5 = DoubleArrow(circle4.get_right(), circle2.get_left(), buff=0.1, color=BLUE)\n",
    "        relationArrow6 = DoubleArrow(circle3.get_left()+0.1, circle1.get_right()-0.1, buff=0.1, color=BLUE)\n",
    "    \n",
    "        backGround = Circle(color=GREEN, fill_opacity=0.2).scale(2.6).to_edge(LEFT).shift(DOWN*0.5,RIGHT*0.3)\n",
    "        Emergent = Text(\"Emergent entity\",color=BLACK).next_to(backGround, UP).scale(textScale)\n",
    "        #VG \n",
    "        copy = VGroup(circle1, circle2, circle3, circle4, relationArrow, relationArrow2, relationArrow3, relationArrow4, relationArrow5, relationArrow6, backGround)\n",
    "        copy1 = copy.copy()\n",
    "        copy1.to_edge(RIGHT)\n",
    "        relationArrow7 = DoubleArrow(copy[-1].get_right(), copy1[-1].get_left(), buff=0.1, color=GREEN)\n",
    "\n",
    "        self.play(FadeIn(circle1))\n",
    "        self.play(FadeIn(entity1))\n",
    "        self.wait(1)\n",
    "        self.play(FadeOut(entity1))\n",
    "        self.play(FadeIn(circle2))\n",
    "        self.play(FadeIn(relationArrow))\n",
    "        self.play(FadeIn(relationText))\n",
    "        self.wait(1)\n",
    "        self.play(FadeOut(relationText))\n",
    "        self.play(FadeIn(circle3),FadeIn(circle4))\n",
    "        self.play(FadeIn(relationArrow2),FadeIn(relationArrow3),FadeIn(relationArrow4),FadeIn(relationArrow5),FadeIn(relationArrow6))\n",
    "        self.play(FadeIn(accumulation))\n",
    "        self.wait(1)\n",
    "        self.play(FadeOut(accumulation))\n",
    "        self.play(FadeIn(backGround))\n",
    "        self.play(FadeIn(Emergent))\n",
    "        self.wait(1)\n",
    "        self.play(FadeOut(Emergent))\n",
    "        self.play(FadeIn(copy1))\n",
    "        self.play(FadeIn(relationArrow7))\n",
    "\n",
    "\n",
    "        \n",
    "\n",
    "\n",
    "\n",
    "\n",
    "        # self.add(circle1, circle2, entity1, relationArrow, relationText, circle3, circle4, relationArrow2, relationArrow3, relationArrow4, relationArrow5, relationArrow6, backGround, Emergent,copy1,relationArrow7)\n",
    "        "
   ]
  },
  {
   "cell_type": "code",
   "execution_count": null,
   "metadata": {},
   "outputs": [],
   "source": []
  },
  {
   "cell_type": "code",
   "execution_count": null,
   "metadata": {},
   "outputs": [],
   "source": []
  }
 ],
 "metadata": {
  "kernelspec": {
   "display_name": "Python 3",
   "language": "python",
   "name": "python3"
  },
  "language_info": {
   "codemirror_mode": {
    "name": "ipython",
    "version": 3
   },
   "file_extension": ".py",
   "mimetype": "text/x-python",
   "name": "python",
   "nbconvert_exporter": "python",
   "pygments_lexer": "ipython3",
   "version": "3.9.6"
  }
 },
 "nbformat": 4,
 "nbformat_minor": 2
}
