{
 "cells": [
  {
   "cell_type": "code",
   "execution_count": 1,
   "id": "f0cb14bf-3621-41cd-bc8b-f8837f82d12c",
   "metadata": {},
   "outputs": [
    {
     "name": "stderr",
     "output_type": "stream",
     "text": [
      "/home/codespace/.python/current/lib/python3.10/site-packages/pydub/utils.py:170: RuntimeWarning: Couldn't find ffmpeg or avconv - defaulting to ffmpeg, but may not work\n",
      "  warn(\"Couldn't find ffmpeg or avconv - defaulting to ffmpeg, but may not work\", RuntimeWarning)\n"
     ]
    },
    {
     "data": {
      "text/html": [
       "<pre style=\"white-space:pre;overflow-x:auto;line-height:normal;font-family:Menlo,'DejaVu Sans Mono',consolas,'Courier New',monospace\">Manim Community <span style=\"color: #008000; text-decoration-color: #008000\">v0.18.0.post0</span>\n",
       "\n",
       "</pre>\n"
      ],
      "text/plain": [
       "Manim Community \u001b[32mv0.\u001b[0m\u001b[32m18.0\u001b[0m\u001b[32m.post0\u001b[0m\n",
       "\n"
      ]
     },
     "metadata": {},
     "output_type": "display_data"
    }
   ],
   "source": [
    "from manim import *\n",
    "import random "
   ]
  },
  {
   "cell_type": "code",
   "execution_count": 37,
   "id": "7540c9e8-aae4-401e-9ab5-68b980962d99",
   "metadata": {},
   "outputs": [
    {
     "name": "stderr",
     "output_type": "stream",
     "text": [
      "                                                                            "
     ]
    },
    {
     "name": "stderr",
     "output_type": "stream",
     "text": [
      "                                                                                              \r"
     ]
    },
    {
     "data": {
      "text/html": [
       "<video src=\"media/jupyter/ImpredicativityAnimation@2024-04-19@15-29-56.mp4\" controls autoplay loop style=\"max-width: 60%;\"  >\n",
       "      Your browser does not support the <code>video</code> element.\n",
       "    </video>"
      ],
      "text/plain": [
       "<IPython.core.display.Video object>"
      ]
     },
     "metadata": {},
     "output_type": "display_data"
    }
   ],
   "source": [
    "%%manim -ql --fps 30 -v WARNING ImpredicativityAnimation\n",
    "\n",
    "class ImpredicativityAnimation(Scene):\n",
    "    def construct(self):\n",
    "        self.camera.background_color = GREY\n",
    "\n",
    "        # Create the spheres\n",
    "        transformer = Circle(radius=1, color=BLUE, fill_color=BLUE, fill_opacity=1).shift(LEFT*2)\n",
    "        transformer.set_z_index(1)\n",
    "        #ejector = Circle(radius=1, color=WHITE).shift(RIGHT*2)\n",
    "        ejector = Square(side_length=2, color=BLACK, fill_color=BLACK, fill_opacity=1).shift(RIGHT*2)\n",
    "        ejector.set_z_index(1)  # Ensure the square is always in front\n",
    "        #transformer_label = Text(\"Transformer\", font_size=24).next_to(transformer, DOWN)\n",
    "        #ejector_label = Text(\"Ejector\", font_size=24).next_to(ejector, DOWN)\n",
    "        #self.add(transformer, ejector, transformer_label, ejector_label)\n",
    "        self.add(transformer, ejector)\n",
    "\n",
    "        for _ in range(4):  # Loop the animation sequence twice\n",
    "            # Initial ball properties\n",
    "            ball = Circle(radius=0.2, color=WHITE, fill_color=WHITE, fill_opacity=1).move_to(LEFT * 8)\n",
    "\n",
    "            # Animation: ball moves to transformer and changes color\n",
    "            self.play(ball.animate.move_to(transformer.get_center()), run_time=2)\n",
    "            self.play(ball.animate.set_color(transformer.color))\n",
    "            \n",
    "            # Animation: ball moves to ejector\n",
    "            self.play(ball.animate.move_to(ejector.get_center()), run_time=2)\n",
    "\n",
    "            new_color = random_bright_color(transformer.color)  # New color from a helper function\n",
    "            square = Square(side_length=0.2, color=new_color, fill_color=new_color, fill_opacity=1).move_to(ejector.get_center())\n",
    "\n",
    "            # Define a curved path to the transformer\n",
    "            path = ArcBetweenPoints(start=ejector.get_center(), \n",
    "                                    end=transformer.get_center() + UP * transformer.radius + DOWN * ball.radius, \n",
    "                                    angle=TAU/2)\n",
    "\n",
    "            # Combined animation sequence\n",
    "            self.play(\n",
    "                MoveAlongPath(square, path),\n",
    "                run_time=4,  # Adjust total duration as needed\n",
    "            )\n",
    "\n",
    "            # Ball arrives and changes the color of the transformer and fades out simultaneously\n",
    "            self.play(\n",
    "                transformer.animate.set_color(new_color),\n",
    "                FadeOut(square)\n",
    "            )\n",
    "            \n",
    "            self.wait(2)  # Pause before next loop iteration\n",
    "\n",
    "        self.play(*[FadeOut(mob) for mob in self.mobjects])\n",
    "        self.wait(2) \n",
    "\n",
    "# Helper function to get random bright colors\n",
    "import random\n",
    "\n",
    "def random_bright_color(current_color):\n",
    "    colors = [RED, YELLOW, PURPLE]\n",
    "    colors = [color for color in colors if color != current_color]\n",
    "    return random.choice(colors)\n",
    "\n"
   ]
  },
  {
   "cell_type": "code",
   "execution_count": null,
   "id": "b152e8f4-8799-4965-818a-49034350b1c8",
   "metadata": {},
   "outputs": [
    {
     "name": "stderr",
     "output_type": "stream",
     "text": [
      "                                                                                                                                                       \r"
     ]
    },
    {
     "data": {
      "text/html": [
       "<video src=\"media/jupyter/LayeredGraphProjection@2024-04-16@21-14-26.mp4\" controls autoplay loop style=\"max-width: 60%;\"  >\n",
       "      Your browser does not support the <code>video</code> element.\n",
       "    </video>"
      ],
      "text/plain": [
       "<IPython.core.display.Video object>"
      ]
     },
     "metadata": {},
     "output_type": "display_data"
    }
   ],
   "source": [
    "%%manim -ql --fps 30 -v WARNING LayeredGraphProjection\n",
    "\n",
    "import networkx as nx\n",
    "import numpy as np\n",
    "\n",
    "class LayeredGraphProjection(ThreeDScene):\n",
    "    def construct(self):\n",
    "        self.set_camera_orientation(phi=70 * DEGREES, theta=135 * DEGREES)\n",
    "\n",
    "        # Create a graph with layers\n",
    "        G = nx.Graph()\n",
    "        layers = {1: 0, 2: 1, 3: 1, 4: 2, 5: 2, 6: 0}\n",
    "        edges = [(1, 2), (1, 3), (3, 4), (2, 4), (2, 5), (4, 5), (6, 5)]\n",
    "        G.add_edges_from(edges)\n",
    "\n",
    "        # Define colors for each layer\n",
    "        layer_colors = {\n",
    "            0: BLUE,\n",
    "            1: GREEN,\n",
    "            2: RED\n",
    "        }\n",
    "\n",
    "        # 2D layout for base projection\n",
    "        pos = nx.spring_layout(G, dim=2)\n",
    "        z_scale = 1  # Scale for the z-axis to visually separate layers more clearly\n",
    "        pos_3d = {node: np.array([*pos[node], layers[node] * z_scale]) for node in G.nodes}\n",
    "\n",
    "        # Create 3D nodes and edges\n",
    "        nodes_3d = [Sphere(radius=0.1, color=layer_colors[layers[node]]).move_to(pos_3d[node]) for node in G.nodes]\n",
    "        edges_3d = [Line3D(start=pos_3d[edge[0]], end=pos_3d[edge[1]], color=WHITE) for edge in G.edges]\n",
    "\n",
    "        # Calculate minimum Z for the projection plane to sit below the lowest node\n",
    "        min_z = min(layers.values()) * z_scale - 1  # One unit below the lowest layer\n",
    "\n",
    "        # Maximum layer for scaling purposes\n",
    "        max_layer = max(layers.values())\n",
    "\n",
    "        # Create 2D nodes and edges with perspective scaling\n",
    "        nodes_2d = [Dot(point=[*pos[node], min_z], color=layer_colors[layers[node]], radius=0.1 * (1 + (layers[node] / (max_layer + 1))))\n",
    "                    for node in G.nodes]\n",
    "        edges_2d = [Line(start=[*pos[edge[0]], min_z], end=[*pos[edge[1]], min_z], color=LIGHT_GRAY) for edge in G.edges]\n",
    "\n",
    "        # Projection lines connecting 3D and 2D nodes\n",
    "        projection_lines = [DashedLine(start=pos_3d[node], end=[*pos[node], min_z], color=GRAY) for node in G.nodes]\n",
    "\n",
    "        # Create a transparent square surface for the 2D projection plane\n",
    "        plane_size = 3.5  # Size of each plane, adjust as necessary\n",
    "        projection_plane = Rectangle(width=plane_size, height=plane_size, fill_color=BLUE, fill_opacity=0.5, stroke_width=0)\n",
    "        projection_plane.shift(OUT * min_z)  # Positioned one step below the lowest node\n",
    "\n",
    "        # Create planes for each layer\n",
    "        unique_layers = set(layers.values())\n",
    "        layer_planes = []\n",
    "        for layer in unique_layers:\n",
    "            plane = Rectangle(width=plane_size, height=plane_size, fill_color=layer_colors[layer], fill_opacity=0.2, stroke_width=0)\n",
    "            plane.shift(OUT * layer * z_scale)  # Offset each plane to match its respective layer height\n",
    "            layer_planes.append(plane)\n",
    "\n",
    "        # Group all elements including the planes\n",
    "        graph_group = Group(*projection_plane, *layer_planes, *nodes_3d, *edges_3d, *nodes_2d, *edges_2d, *projection_lines)\n",
    "\n",
    "        # Add the entire graph and projection in one step\n",
    "        #self.play(FadeIn(graph_group), run_time=1)\n",
    "        self.add(graph_group)\n",
    "\n",
    "        # Camera swing around the scene\n",
    "        self.move_camera(phi=80 * DEGREES, theta=-90 * DEGREES, run_time=1)\n",
    "\n",
    "        #self.wait(1)  # Short wait time to view the complete graph and projection after the camera swing\n",
    "\n",
    "# Render with a lower frame rate if necessary: manim -pql --fps 30 script.py\n"
   ]
  },
  {
   "cell_type": "code",
   "execution_count": null,
   "id": "0e8248f9-60d1-4bae-9241-8a23978aa137",
   "metadata": {},
   "outputs": [
    {
     "name": "stdout",
     "output_type": "stream",
     "text": [
      "Usage: manim render [OPTIONS] FILE [SCENE_NAMES]...\n",
      "\n",
      "  Render SCENE(S) from the input FILE.\n",
      "\n",
      "  FILE is the file path of the script or a config file.\n",
      "\n",
      "  SCENES is an optional list of scenes in the file.\n",
      "\n",
      "Global options:\n",
      "  -c, --config_file TEXT         Specify the configuration file to use for\n",
      "                                 render settings.\n",
      "  --custom_folders               Use the folders defined in the [custom_folders]\n",
      "                                 section of the config file to define the output\n",
      "                                 folder structure.\n",
      "  --disable_caching              Disable the use of the cache (still generates\n",
      "                                 cache files).\n",
      "  --flush_cache                  Remove cached partial movie files.\n",
      "  --tex_template TEXT            Specify a custom TeX template file.\n",
      "  -v, --verbosity [DEBUG|INFO|WARNING|ERROR|CRITICAL]\n",
      "                                 Verbosity of CLI output. Changes ffmpeg log\n",
      "                                 level unless 5+.\n",
      "  --notify_outdated_version / --silent\n",
      "                                 Display warnings for outdated installation.\n",
      "  --enable_gui                   Enable GUI interaction.\n",
      "  --gui_location TEXT            Starting location for the GUI.\n",
      "  --fullscreen                   Expand the window to its maximum possible size.\n",
      "  --enable_wireframe             Enable wireframe debugging mode in opengl.\n",
      "  --force_window                 Force window to open when using the opengl\n",
      "                                 renderer, intended for debugging as it may\n",
      "                                 impact performance\n",
      "  --dry_run                      Renders animations without outputting image or\n",
      "                                 video files and disables the window\n",
      "  --no_latex_cleanup             Prevents deletion of .aux, .dvi, and .log files\n",
      "                                 produced by Tex and MathTex.\n",
      "\n",
      "Output options:\n",
      "  -o, --output_file TEXT         Specify the filename(s) of the rendered\n",
      "                                 scene(s).\n",
      "  -0, --zero_pad INTEGER RANGE   Zero padding for PNG file names.  [0<=x<=9]\n",
      "  --write_to_movie               Write the video rendered with opengl to a file.\n",
      "  --media_dir PATH               Path to store rendered videos and latex.\n",
      "  --log_dir PATH                 Path to store render logs.\n",
      "  --log_to_file                  Log terminal output to file.\n",
      "\n",
      "Render Options:\n",
      "  -n, --from_animation_number TEXT\n",
      "                                 Start rendering from n_0 until n_1. If n_1 is\n",
      "                                 left unspecified, renders all scenes after n_0.\n",
      "  -a, --write_all                Render all scenes in the input file.\n",
      "  --format [png|gif|mp4|webm|mov]\n",
      "  -s, --save_last_frame\n",
      "  -q, --quality [l|m|h|p|k]      Render quality at the follow resolution\n",
      "                                 framerates, respectively: 854x480 15FPS,\n",
      "                                 1280x720 30FPS, 1920x1080 60FPS, 2560x1440\n",
      "                                 60FPS, 3840x2160 60FPS\n",
      "  -r, --resolution TEXT          Resolution in \"W,H\" for when 16:9 aspect ratio\n",
      "                                 isn't possible.\n",
      "  --fps, --frame_rate FLOAT      Render at this frame rate.\n",
      "  --renderer [cairo|opengl]      Select a renderer for your Scene.\n",
      "  -g, --save_pngs                Save each frame as png (Deprecated).\n",
      "  -i, --save_as_gif              Save as a gif (Deprecated).\n",
      "  --save_sections                Save section videos in addition to movie file.\n",
      "  -s, --save_last_frame          Save last frame as png (Deprecated).\n",
      "  -t, --transparent              Render scenes with alpha channel.\n",
      "  --use_projection_fill_shaders  Use shaders for OpenGLVMobject fill which are\n",
      "                                 compatible with transformation matrices.\n",
      "  --use_projection_stroke_shaders\n",
      "                                 Use shaders for OpenGLVMobject stroke which are\n",
      "                                 compatible with transformation matrices.\n",
      "\n",
      "Ease of access options:\n",
      "  --progress_bar [display|leave|none]\n",
      "                                 Display progress bars and/or keep them\n",
      "                                 displayed.\n",
      "  -p, --preview                  Preview the Scene's animation. OpenGL does a\n",
      "                                 live preview in a popup window. Cairo opens the\n",
      "                                 rendered video file in the system default media\n",
      "                                 player.\n",
      "  -f, --show_in_file_browser     Show the output file in the file browser.\n",
      "  --jupyter                      Using jupyter notebook magic.\n",
      "\n",
      "Other options:\n",
      "  --help                         Show this message and exit.\n",
      "\n",
      "Made with <3 by Manim Community developers.\n"
     ]
    }
   ],
   "source": [
    "%%manim render --help\n",
    "\n",
    "pass"
   ]
  },
  {
   "cell_type": "code",
   "execution_count": null,
   "id": "1c3e55a1-9b84-4119-a2dc-55f440d0a7d1",
   "metadata": {},
   "outputs": [],
   "source": []
  }
 ],
 "metadata": {
  "kernelspec": {
   "display_name": "Python 3 (ipykernel)",
   "language": "python",
   "name": "python3"
  },
  "language_info": {
   "codemirror_mode": {
    "name": "ipython",
    "version": 3
   },
   "file_extension": ".py",
   "mimetype": "text/x-python",
   "name": "python",
   "nbconvert_exporter": "python",
   "pygments_lexer": "ipython3",
   "version": "3.10.13"
  }
 },
 "nbformat": 4,
 "nbformat_minor": 5
}
