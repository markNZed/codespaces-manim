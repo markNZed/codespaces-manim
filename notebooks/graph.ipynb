{
 "cells": [
  {
   "cell_type": "code",
   "execution_count": 3,
   "metadata": {},
   "outputs": [
    {
     "data": {
      "text/html": [
       "<pre style=\"white-space:pre;overflow-x:auto;line-height:normal;font-family:Menlo,'DejaVu Sans Mono',consolas,'Courier New',monospace\"><span style=\"color: #7fbfbf; text-decoration-color: #7fbfbf\">[04/22/24 20:23:45] </span><span style=\"color: #800000; text-decoration-color: #800000\">WARNING </span> Missing Plugins: <span style=\"font-weight: bold\">{</span><span style=\"color: #008000; text-decoration-color: #008000\">''</span><span style=\"font-weight: bold\">}</span>                                                   <a href=\"file:///usr/local/lib/python3.11/site-packages/manim/plugins/__init__.py\" target=\"_blank\"><span style=\"color: #7f7f7f; text-decoration-color: #7f7f7f\">__init__.py</span></a><span style=\"color: #7f7f7f; text-decoration-color: #7f7f7f\">:</span><a href=\"file:///usr/local/lib/python3.11/site-packages/manim/plugins/__init__.py#17\" target=\"_blank\"><span style=\"color: #7f7f7f; text-decoration-color: #7f7f7f\">17</span></a>\n",
       "</pre>\n"
      ],
      "text/plain": [
       "\u001b[2;36m[04/22/24 20:23:45]\u001b[0m\u001b[2;36m \u001b[0m\u001b[31mWARNING \u001b[0m Missing Plugins: \u001b[1m{\u001b[0m\u001b[32m''\u001b[0m\u001b[1m}\u001b[0m                                                   \u001b]8;id=157897;file:///usr/local/lib/python3.11/site-packages/manim/plugins/__init__.py\u001b\\\u001b[2m__init__.py\u001b[0m\u001b]8;;\u001b\\\u001b[2m:\u001b[0m\u001b]8;id=758203;file:///usr/local/lib/python3.11/site-packages/manim/plugins/__init__.py#17\u001b\\\u001b[2m17\u001b[0m\u001b]8;;\u001b\\\n"
      ]
     },
     "metadata": {},
     "output_type": "display_data"
    }
   ],
   "source": [
    "from manim import *"
   ]
  },
  {
   "cell_type": "code",
   "execution_count": 5,
   "metadata": {},
   "outputs": [
    {
     "data": {
      "text/html": [
       "<pre style=\"white-space:pre;overflow-x:auto;line-height:normal;font-family:Menlo,'DejaVu Sans Mono',consolas,'Courier New',monospace\">Manim Community <span style=\"color: #008000; text-decoration-color: #008000\">v0.18.0</span>\n",
       "\n",
       "</pre>\n"
      ],
      "text/plain": [
       "Manim Community \u001b[32mv0.\u001b[0m\u001b[32m18.0\u001b[0m\n",
       "\n"
      ]
     },
     "metadata": {},
     "output_type": "display_data"
    },
    {
     "name": "stderr",
     "output_type": "stream",
     "text": [
      "                                                                                                  \r"
     ]
    },
    {
     "data": {
      "text/html": [
       "<video src=\"media/jupyter/LayeredGraphProjection@2024-04-22@20-25-16.mp4\" controls autoplay loop style=\"max-width: 60%;\"  >\n",
       "      Your browser does not support the <code>video</code> element.\n",
       "    </video>"
      ],
      "text/plain": [
       "<IPython.core.display.Video object>"
      ]
     },
     "metadata": {},
     "output_type": "display_data"
    }
   ],
   "source": [
    "%%manim -ql --fps 30 -v WARNING LayeredGraphProjection\n",
    "\n",
    "import networkx as nx\n",
    "import numpy as np\n",
    "\n",
    "class LayeredGraphProjection(ThreeDScene):\n",
    "    def construct(self):\n",
    "        self.set_camera_orientation(phi=70 * DEGREES, theta=135 * DEGREES)\n",
    "\n",
    "        # Create a graph with layers\n",
    "        G = nx.Graph()\n",
    "        layers = {1: 0, 2: 1, 3: 1, 4: 2, 5: 2, 6: 0}\n",
    "        edges = [(1, 2), (1, 3), (3, 4), (2, 4), (2, 5), (4, 5), (6, 5)]\n",
    "        G.add_edges_from(edges)\n",
    "\n",
    "        # Define colors for each layer\n",
    "        layer_colors = {\n",
    "            0: BLUE,\n",
    "            1: GREEN,\n",
    "            2: RED\n",
    "        }\n",
    "\n",
    "        # 2D layout for base projection\n",
    "        pos = nx.spring_layout(G, dim=2)\n",
    "        z_scale = 1  # Scale for the z-axis to visually separate layers more clearly\n",
    "        pos_3d = {node: np.array([*pos[node], layers[node] * z_scale]) for node in G.nodes}\n",
    "\n",
    "        # Create 3D nodes and edges\n",
    "        nodes_3d = [Sphere(radius=0.1, color=layer_colors[layers[node]]).move_to(pos_3d[node]) for node in G.nodes]\n",
    "        edges_3d = [Line3D(start=pos_3d[edge[0]], end=pos_3d[edge[1]], color=WHITE) for edge in G.edges]\n",
    "\n",
    "        # Calculate minimum Z for the projection plane to sit below the lowest node\n",
    "        min_z = min(layers.values()) * z_scale - 1  # One unit below the lowest layer\n",
    "\n",
    "        # Maximum layer for scaling purposes\n",
    "        max_layer = max(layers.values())\n",
    "\n",
    "        # Create 2D nodes and edges with perspective scaling\n",
    "        nodes_2d = [Dot(point=[*pos[node], min_z], color=layer_colors[layers[node]], radius=0.1 * (1 + (layers[node] / (max_layer + 1))))\n",
    "                    for node in G.nodes]\n",
    "        edges_2d = [Line(start=[*pos[edge[0]], min_z], end=[*pos[edge[1]], min_z], color=LIGHT_GRAY) for edge in G.edges]\n",
    "\n",
    "        # Projection lines connecting 3D and 2D nodes\n",
    "        projection_lines = [DashedLine(start=pos_3d[node], end=[*pos[node], min_z], color=GRAY) for node in G.nodes]\n",
    "\n",
    "        # Create a transparent square surface for the 2D projection plane\n",
    "        plane_size = 3.5  # Size of each plane, adjust as necessary\n",
    "        projection_plane = Rectangle(width=plane_size, height=plane_size, fill_color=BLUE, fill_opacity=0.5, stroke_width=0)\n",
    "        projection_plane.shift(OUT * min_z)  # Positioned one step below the lowest node\n",
    "\n",
    "        # Create planes for each layer\n",
    "        unique_layers = set(layers.values())\n",
    "        layer_planes = []\n",
    "        for layer in unique_layers:\n",
    "            plane = Rectangle(width=plane_size, height=plane_size, fill_color=layer_colors[layer], fill_opacity=0.2, stroke_width=0)\n",
    "            plane.shift(OUT * layer * z_scale)  # Offset each plane to match its respective layer height\n",
    "            layer_planes.append(plane)\n",
    "\n",
    "        # Group all elements including the planes\n",
    "        graph_group = Group(*projection_plane, *layer_planes, *nodes_3d, *edges_3d, *nodes_2d, *edges_2d, *projection_lines)\n",
    "\n",
    "        # Add the entire graph and projection in one step\n",
    "        #self.play(FadeIn(graph_group), run_time=1)\n",
    "        self.add(graph_group)\n",
    "\n",
    "        # Camera swing around the scene\n",
    "        self.move_camera(phi=80 * DEGREES, theta=-90 * DEGREES, run_time=1)\n",
    "\n",
    "        #self.wait(1)  # Short wait time to view the complete graph and projection after the camera swing\n",
    "\n",
    "# Render with a lower frame rate if necessary: manim -pql --fps 30 script.py\n"
   ]
  }
 ],
 "metadata": {
  "kernelspec": {
   "display_name": "Python 3",
   "language": "python",
   "name": "python3"
  },
  "language_info": {
   "codemirror_mode": {
    "name": "ipython",
    "version": 3
   },
   "file_extension": ".py",
   "mimetype": "text/x-python",
   "name": "python",
   "nbconvert_exporter": "python",
   "pygments_lexer": "ipython3",
   "version": "3.11.9"
  }
 },
 "nbformat": 4,
 "nbformat_minor": 2
}
