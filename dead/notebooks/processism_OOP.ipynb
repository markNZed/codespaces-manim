{
 "cells": [
  {
   "cell_type": "code",
   "execution_count": 1,
   "metadata": {},
   "outputs": [
    {
     "name": "stderr",
     "output_type": "stream",
     "text": [
      "/Users/ahmedhesham/Library/Python/3.9/lib/python/site-packages/urllib3/__init__.py:35: NotOpenSSLWarning: urllib3 v2 only supports OpenSSL 1.1.1+, currently the 'ssl' module is compiled with 'LibreSSL 2.8.3'. See: https://github.com/urllib3/urllib3/issues/3020\n",
      "  warnings.warn(\n"
     ]
    },
    {
     "data": {
      "text/html": [
       "<pre style=\"white-space:pre;overflow-x:auto;line-height:normal;font-family:Menlo,'DejaVu Sans Mono',consolas,'Courier New',monospace\">Manim Community <span style=\"color: #008000; text-decoration-color: #008000\">v0.18.0</span>\n",
       "\n",
       "</pre>\n"
      ],
      "text/plain": [
       "Manim Community \u001b[32mv0.\u001b[0m\u001b[32m18.0\u001b[0m\n",
       "\n"
      ]
     },
     "metadata": {},
     "output_type": "display_data"
    }
   ],
   "source": [
    "from parent import *"
   ]
  },
  {
   "cell_type": "code",
   "execution_count": 2,
   "metadata": {},
   "outputs": [
    {
     "name": "stderr",
     "output_type": "stream",
     "text": [
      "                                                                                                     \r"
     ]
    }
   ],
   "source": [
    "%%manim -ql --fps 30 -v WARNING processism\n",
    "\n",
    "scaler = 0.25\n",
    "textScale = 0.5\n",
    "stroke_width = 2\n",
    "\n",
    "class processism(helpers):\n",
    "    def construct(self):\n",
    "        self.camera.background_color = GREY\n",
    "        self.set_camera_orientation(phi=360 * DEGREES, theta=-90 * DEGREES)\n",
    "        # Create circles\n",
    "\n",
    "        circle1 = self.create_circle().to_edge(LEFT).shift(RIGHT, UP)\n",
    "        circle2 = self.create_circle().next_to(circle1, RIGHT).shift(RIGHT*2)\n",
    "        circle3 = self.create_circle().next_to(circle2, DOWN).shift(DOWN*2)\n",
    "        circle4 = self.create_circle().next_to(circle1, DOWN).shift(DOWN*2)\n",
    "\n",
    "        circles = VGroup(\n",
    "            circle1,\n",
    "            circle2,\n",
    "            circle3,\n",
    "            circle4,\n",
    "        )\n",
    "\n",
    "\n",
    "        # # Create arrows\n",
    "        relationArrows = VGroup(\n",
    "            self.create_arrows(circle1.get_right(), circle2.get_left()),\n",
    "            self.create_arrows(circle1.get_bottom(), circle4.get_top()),\n",
    "            self.create_arrows(circle2.get_bottom(), circle3.get_top()),\n",
    "            self.create_arrows(circle3.get_left(), circle4.get_right()),\n",
    "            self.create_arrows(circle4.get_right(), circle2.get_left()),\n",
    "            self.create_arrows(circle3.get_left()+0.1, circle1.get_right()-0.1)\n",
    "        )\n",
    "\n",
    "\n",
    "        # Create background\n",
    "        backGround = Circle(color=GREEN, fill_opacity=0.2).scale(2.7).to_edge(LEFT).shift(DOWN*0.5,UP*0.3,RIGHT,OUT*-2)\n",
    "        VGroup(circle1, circle2, circle3, circle4, relationArrows).move_to(backGround).shift(OUT*2)\n",
    "        # Create copies\n",
    "        copy = VGroup(backGround, *circles, *relationArrows)\n",
    "        copy1 = copy.copy()\n",
    "        copy1.to_edge(RIGHT)\n",
    "        backGround.shift(LEFT*0.3)\n",
    "        copy1[0].shift(RIGHT*0.3)\n",
    "        VGroup(copy1,copy).shift(LEFT*0.4)\n",
    "\n",
    "        # Create relation arrow\n",
    "        relationArrow7 = self.create_arrows(copy[0].get_right(), copy1[0].get_left(), color=GREEN)\n",
    "\n",
    "        # Create texts\n",
    "        entity1 = self.create_tex(\"An entity\").next_to(circles[0], UP)\n",
    "        relationText = self.create_tex(\"A relation\").next_to(relationArrows[0], UP)\n",
    "        accumulation = self.create_tex(\"Accumulation\").next_to(relationArrows[0], UP)\n",
    "        Emergent = self.create_tex(\"Emergent entity\").next_to(backGround, UP)\n",
    "        topDown, topDownArrows = self.create_top_down(copy[0])\n",
    "        bottomUp, bottomUpArrows = self.create_bottom_up(copy1[0])\n",
    "\n",
    "        # Play animations\n",
    "        self.play_animations(circles, relationArrows, backGround, copy1, relationArrow7, entity1, relationText, accumulation, Emergent, topDown, topDownArrows, bottomUp, bottomUpArrows)\n",
    "        \n",
    "    \n",
    " # one time function\n",
    "    def top_down_Arrows(self):\n",
    "        topDownArrow1 = Arrow3D(start=np.array([-4.2,1.3,0]),end=np.array([-4.2,0.4,1]),color=GREEN).shift(OUT*-2.2).rotate(1,axis=LEFT )\n",
    "        topDownArrow2 = Arrow3D(start=np.array([-1.8,1.2,0]),end=np.array([-1.8,0,1]), color=GREEN).shift(OUT*-2.2).rotate(1,axis=LEFT )\n",
    "        topDownArrow3 = Arrow3D(start=np.array([-4,2,0]),end=np.array([-4,1,1]), color=GREEN).shift(OUT*-2.4,UP*2.5).rotate(1,axis=LEFT )\n",
    "        topDownArrow4 = Arrow3D(start=np.array([-1.4,2.1,0]),end=np.array([-1.4,1,1]), color=GREEN).shift(OUT*-2.4,UP*2.5).rotate(1,axis=LEFT )\n",
    "\n",
    "        return topDownArrow1, topDownArrow2, topDownArrow3, topDownArrow4\n",
    "    \n",
    "    # one time function   \n",
    "    def create_top_down(self, copy):\n",
    "        topDown = Text(\"Top-down\",color=BLACK).next_to(copy, OUT).scale(textScale).shift(RIGHT*2,UP*1,OUT*-1.5).rotate(2,axis=LEFT)\n",
    "        topDownArrows = self.top_down_Arrows()\n",
    "        return topDown, topDownArrows\n",
    "\n",
    "    # one time function\n",
    "    def bottom_up_Arrows(self):\n",
    "        bottomUpArrow1 = self.create_3d_arrows(end=np.array([4,1.3,0]),start=np.array([4,0.4,1]), color=BLUE).shift(OUT*-2.2,UP*0.6)\n",
    "        bottomUpArrow2 = self.create_3d_arrows(end=np.array([1.7,1.3,0]),start=np.array([1.7,0.4,1]), color=BLUE).shift(OUT*-2.2,UP*0.6)\n",
    "        bottomUpArrow3 = self.create_3d_arrows(end=np.array([4.4,1.3,0]),start=np.array([4.4,0.2,1]), color=BLUE).shift(OUT*-2.2,UP*2.5)\n",
    "        bottomUpArrow4 = self.create_3d_arrows(end=np.array([1.8,1.3,0]),start=np.array([1.8,0.2,1]), color=BLUE).shift(OUT*-2,UP*2.3)\n",
    "\n",
    "        return bottomUpArrow1, bottomUpArrow2, bottomUpArrow3, bottomUpArrow4\n",
    "    \n",
    "    # one time function\n",
    "    def create_bottom_up(self, copy):\n",
    "        bottomUp = Text(\"Bottom-up\",color=BLACK).next_to(copy,  OUT).scale(textScale).shift(RIGHT*1.5,UP*1,OUT*-1.5).rotate(2,axis=LEFT)\n",
    "        bottomUpArrows = self.bottom_up_Arrows()\n",
    "        \n",
    "       \n",
    "        return bottomUp, bottomUpArrows\n",
    "        \n",
    "\n",
    "    def play_animations(self, circles, arrow, backGround, copy1, relationArrow7, entity1, relationText, accumulation, Emergent, topDown, topDownArrows, bottomUp, bottomUpArrows):\n",
    "        self.play(FadeIn(circles[0]))\n",
    "        self.play(FadeIn(entity1))\n",
    "        self.wait(1)\n",
    "        self.play(FadeOut(entity1))\n",
    "        self.play(FadeIn(circles[1]))\n",
    "        self.play(FadeIn(arrow[0]))\n",
    "        self.play(FadeIn(relationText))\n",
    "        self.wait(1)\n",
    "        self.play(FadeOut(relationText))\n",
    "        self.play(FadeIn(circles[2]),FadeIn(circles[3]))\n",
    "        self.play_fade_in(arrow[1:])\n",
    "        self.play(FadeIn(accumulation))\n",
    "        self.wait(1)\n",
    "        self.play(FadeOut(accumulation))\n",
    "        self.play(FadeIn(backGround))\n",
    "        self.play(FadeIn(Emergent))\n",
    "        self.wait(1)\n",
    "        self.play(FadeOut(Emergent))\n",
    "        self.play(FadeIn(copy1))\n",
    "        self.play(FadeIn(relationArrow7))\n",
    "        self.move_camera(phi=250 * DEGREES, zoom=1, run_time=2)\n",
    "        self.play(FadeIn(bottomUp))\n",
    "        self.play_fade_in(bottomUpArrows) \n",
    "    \n",
    "        self.wait(1)\n",
    "        self.play(FadeIn(topDown))\n",
    "        self.play_fade_in(topDownArrows) \n",
    "        self.wait(1)"
   ]
  },
  {
   "cell_type": "code",
   "execution_count": null,
   "metadata": {},
   "outputs": [],
   "source": []
  }
 ],
 "metadata": {
  "kernelspec": {
   "display_name": "Python 3",
   "language": "python",
   "name": "python3"
  },
  "language_info": {
   "codemirror_mode": {
    "name": "ipython",
    "version": 3
   },
   "file_extension": ".py",
   "mimetype": "text/x-python",
   "name": "python",
   "nbconvert_exporter": "python",
   "pygments_lexer": "ipython3",
   "version": "3.9.6"
  }
 },
 "nbformat": 4,
 "nbformat_minor": 2
}
