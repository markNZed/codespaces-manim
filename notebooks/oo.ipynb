{
 "cells": [
  {
   "cell_type": "code",
   "execution_count": 1,
   "metadata": {},
   "outputs": [
    {
     "data": {
      "text/html": [
       "<pre style=\"white-space:pre;overflow-x:auto;line-height:normal;font-family:Menlo,'DejaVu Sans Mono',consolas,'Courier New',monospace\"><span style=\"color: #7fbfbf; text-decoration-color: #7fbfbf\">[04/24/24 13:47:17] </span><span style=\"color: #800000; text-decoration-color: #800000\">WARNING </span> Missing Plugins: <span style=\"font-weight: bold\">{</span><span style=\"color: #008000; text-decoration-color: #008000\">''</span><span style=\"font-weight: bold\">}</span>                                                   <a href=\"file:///usr/local/lib/python3.11/site-packages/manim/plugins/__init__.py\" target=\"_blank\"><span style=\"color: #7f7f7f; text-decoration-color: #7f7f7f\">__init__.py</span></a><span style=\"color: #7f7f7f; text-decoration-color: #7f7f7f\">:</span><a href=\"file:///usr/local/lib/python3.11/site-packages/manim/plugins/__init__.py#17\" target=\"_blank\"><span style=\"color: #7f7f7f; text-decoration-color: #7f7f7f\">17</span></a>\n",
       "</pre>\n"
      ],
      "text/plain": [
       "\u001b[2;36m[04/24/24 13:47:17]\u001b[0m\u001b[2;36m \u001b[0m\u001b[31mWARNING \u001b[0m Missing Plugins: \u001b[1m{\u001b[0m\u001b[32m''\u001b[0m\u001b[1m}\u001b[0m                                                   \u001b]8;id=647723;file:///usr/local/lib/python3.11/site-packages/manim/plugins/__init__.py\u001b\\\u001b[2m__init__.py\u001b[0m\u001b]8;;\u001b\\\u001b[2m:\u001b[0m\u001b]8;id=44582;file:///usr/local/lib/python3.11/site-packages/manim/plugins/__init__.py#17\u001b\\\u001b[2m17\u001b[0m\u001b]8;;\u001b\\\n"
      ]
     },
     "metadata": {},
     "output_type": "display_data"
    }
   ],
   "source": [
    "from manim import *"
   ]
  },
  {
   "cell_type": "code",
   "execution_count": 2,
   "metadata": {},
   "outputs": [
    {
     "data": {
      "text/html": [
       "<pre style=\"white-space:pre;overflow-x:auto;line-height:normal;font-family:Menlo,'DejaVu Sans Mono',consolas,'Courier New',monospace\">Manim Community <span style=\"color: #008000; text-decoration-color: #008000\">v0.18.0</span>\n",
       "\n",
       "</pre>\n"
      ],
      "text/plain": [
       "Manim Community \u001b[32mv0.\u001b[0m\u001b[32m18.0\u001b[0m\n",
       "\n"
      ]
     },
     "metadata": {},
     "output_type": "display_data"
    },
    {
     "name": "stderr",
     "output_type": "stream",
     "text": [
      "                                                                                                  \r"
     ]
    },
    {
     "data": {
      "text/html": [
       "<video src=\"media/jupyter/ComplexGroupScene@2024-04-24@13-50-05.mp4\" controls autoplay loop style=\"max-width: 60%;\"  >\n",
       "      Your browser does not support the <code>video</code> element.\n",
       "    </video>"
      ],
      "text/plain": [
       "<IPython.core.display.Video object>"
      ]
     },
     "metadata": {},
     "output_type": "display_data"
    }
   ],
   "source": [
    "%%manim -ql --fps 30 -v WARNING ComplexGroupScene\n",
    "\n",
    "from abc import ABC, abstractmethod\n",
    "from manim import *\n",
    "\n",
    "class ObjectGroup(ABC):\n",
    "    def __init__(self, *objects):\n",
    "        self.group = VGroup(*objects)\n",
    "\n",
    "    def add(self, *objects):\n",
    "        for obj in objects:\n",
    "            if isinstance(obj, Mobject):  # Ensure only valid objects are added\n",
    "                self.group.add(obj)\n",
    "            else:\n",
    "                raise TypeError(\"Only Mobjects can be added to the group\")\n",
    "    \n",
    "    @abstractmethod\n",
    "    def animate_group(self, scene, animation, **kwargs):\n",
    "        pass\n",
    "\n",
    "    def apply_transform(self, transform):\n",
    "        self.group.apply_transform(transform)\n",
    "\n",
    "class AnimationMixin:\n",
    "    def fade_in(self, scene, duration=1):\n",
    "        scene.play(FadeIn(self.group, run_time=duration))\n",
    "\n",
    "class SphereCluster(ObjectGroup, AnimationMixin):\n",
    "    def __init__(self, center, radius, color=BLUE, count=5):\n",
    "        spheres = [Sphere(radius=0.3, color=color).move_to(center + radius * direction)\n",
    "                   for direction in compass_directions(count)]\n",
    "        super().__init__(*spheres)\n",
    "    \n",
    "    def animate_group(self, scene, animation, **kwargs):\n",
    "        scene.play(animation(self.group, **kwargs))\n",
    "    \n",
    "    def animate_orbit(self, scene, axis=UP, rate=1):\n",
    "        for sphere in self.group:\n",
    "            scene.play(Rotate(sphere, angle=PI, axis=axis, about_point=self.group.get_center()), run_time=rate, rate_func=linear)\n",
    "\n",
    "class ComplexGroupScene(ThreeDScene):\n",
    "    def construct(self):\n",
    "        sphere_cluster = SphereCluster(center=ORIGIN, radius=2, color=PURPLE)\n",
    "        self.add(sphere_cluster.group)\n",
    "        sphere_cluster.fade_in(self)\n",
    "        self.wait(1)\n",
    "        sphere_cluster.animate_orbit(self, axis=RIGHT, rate=2)\n",
    "        self.wait(1)\n",
    "        self.move_camera(phi=75 * DEGREES, theta=45 * DEGREES)\n",
    "        self.wait(2)\n"
   ]
  }
 ],
 "metadata": {
  "kernelspec": {
   "display_name": "Python 3",
   "language": "python",
   "name": "python3"
  },
  "language_info": {
   "codemirror_mode": {
    "name": "ipython",
    "version": 3
   },
   "file_extension": ".py",
   "mimetype": "text/x-python",
   "name": "python",
   "nbconvert_exporter": "python",
   "pygments_lexer": "ipython3",
   "version": "3.11.9"
  }
 },
 "nbformat": 4,
 "nbformat_minor": 2
}
