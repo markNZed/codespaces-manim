{
 "cells": [
  {
   "cell_type": "code",
   "execution_count": null,
   "metadata": {},
   "outputs": [
    {
     "name": "stderr",
     "output_type": "stream",
     "text": [
      "/Users/ahmedhesham/Library/Python/3.9/lib/python/site-packages/urllib3/__init__.py:35: NotOpenSSLWarning: urllib3 v2 only supports OpenSSL 1.1.1+, currently the 'ssl' module is compiled with 'LibreSSL 2.8.3'. See: https://github.com/urllib3/urllib3/issues/3020\n",
      "  warnings.warn(\n"
     ]
    },
    {
     "data": {
      "text/html": [
       "<pre style=\"white-space:pre;overflow-x:auto;line-height:normal;font-family:Menlo,'DejaVu Sans Mono',consolas,'Courier New',monospace\">Manim Community <span style=\"color: #008000; text-decoration-color: #008000\">v0.18.0</span>\n",
       "\n",
       "</pre>\n"
      ],
      "text/plain": [
       "Manim Community \u001b[32mv0.\u001b[0m\u001b[32m18.0\u001b[0m\n",
       "\n"
      ]
     },
     "metadata": {},
     "output_type": "display_data"
    }
   ],
   "source": [
    "from manim import *"
   ]
  },
  {
   "cell_type": "code",
   "execution_count": 122,
   "metadata": {},
   "outputs": [
    {
     "name": "stderr",
     "output_type": "stream",
     "text": [
      "                                                                                              \r"
     ]
    },
    {
     "data": {
      "text/html": [
       "<video src=\"media/jupyter/processism@2024-04-23@22-32-52.mp4\" controls autoplay loop style=\"max-width: 60%;\"  >\n",
       "      Your browser does not support the <code>video</code> element.\n",
       "    </video>"
      ],
      "text/plain": [
       "<IPython.core.display.Video object>"
      ]
     },
     "metadata": {},
     "output_type": "display_data"
    }
   ],
   "source": [
    "%%manim -ql --fps 30 -v WARNING processism\n",
    "\n",
    "\n",
    "class processism(ThreeDScene):\n",
    "    def construct(self):\n",
    "        self.camera.background_color = GREY\n",
    "        self.set_camera_orientation(phi=360 * DEGREES, theta=-90 * DEGREES)\n",
    "        scaler = 0.25\n",
    "        textScale = 0.5\n",
    "        stroke_width = 2\n",
    "        circle1 = Circle(color=BLUE, fill_opacity=1).scale(scaler).to_edge(LEFT).shift(RIGHT,UP)\n",
    "        circle2 = Circle(color=BLUE, fill_opacity=1).scale(scaler).next_to(circle1, RIGHT).shift(RIGHT*2)\n",
    "        circle3 = Circle(color=BLUE, fill_opacity=1).scale(scaler).next_to(circle2, DOWN).shift(DOWN*2)\n",
    "        circle4 = Circle(color=BLUE, fill_opacity=1).scale(scaler).next_to(circle1, DOWN).shift(DOWN*2)\n",
    "        circle2.shift(RIGHT*0.3)\n",
    "        relationArrow = DoubleArrow(circle1.get_right(), circle2.get_left(), buff=0.1, color=BLUE)\n",
    "        relationArrow2 = DoubleArrow(circle1.get_bottom(), circle4.get_top(), buff=0.1, color=BLUE)\n",
    "        relationArrow3 = DoubleArrow(circle2.get_bottom(), circle3.get_top(), buff=0.1, color=BLUE)\n",
    "        relationArrow4 = DoubleArrow(circle3.get_left(), circle4.get_right(), buff=0.1, color=BLUE)\n",
    "        relationArrow5 = DoubleArrow(circle4.get_right(), circle2.get_left(), buff=0.1, color=BLUE)\n",
    "        relationArrow6 = DoubleArrow(circle3.get_left()+0.1, circle1.get_right()-0.1, buff=0.1, color=BLUE)\n",
    "        backGround = Circle(color=GREEN, fill_opacity=0.2).scale(2.7).to_edge(LEFT).shift(DOWN*0.5,UP*0.3,RIGHT,OUT*-2)\n",
    "        VGroup(circle1, circle2, circle3, circle4, relationArrow, relationArrow2, relationArrow3, relationArrow4, relationArrow5, relationArrow6).move_to(backGround).shift(OUT*2)\n",
    "        copy = VGroup(backGround,circle1, circle2, circle3, circle4, relationArrow, relationArrow2, relationArrow3, relationArrow4, relationArrow5, relationArrow6)\n",
    "        copy1 = copy.copy()\n",
    "        copy1.to_edge(RIGHT)\n",
    "        backGround.shift(LEFT*0.3)\n",
    "        copy1[0].shift(RIGHT*0.3)\n",
    "        VGroup(copy1,copy).shift(LEFT*0.4)\n",
    "        relationArrow7 = DoubleArrow(copy[0].get_right(), copy1[0].get_left(), buff=0.1, color=GREEN)\n",
    "        entity1 = Text(\"An entity\",color=BLACK).next_to(circle1, UP).scale(textScale)\n",
    "        relationText = Text(\"A relation\",color=BLACK).next_to(relationArrow, UP).scale(textScale)\n",
    "        accumulation = Text(\"Accumulation\",color=BLACK).next_to(relationArrow, UP).scale(textScale)\n",
    "        Emergent = Text(\"Emergent entity\",color=BLACK).next_to(backGround, UP).scale(textScale) \n",
    "        topDown = Text(\"Top-down\",color=BLACK).next_to(copy[0], OUT).scale(textScale).shift(RIGHT*2,UP*1,OUT*-1.5).rotate(2,axis=LEFT)\n",
    "        bottomUp = Text(\"Bottom-up\",color=BLACK).next_to(copy1[0],  OUT).scale(textScale).shift(RIGHT*1.5,UP*1,OUT*-1.5).rotate(2,axis=LEFT)\n",
    "        bottomUpArrow1 = Arrow3D(end=np.array([4,1.3,0]),start=np.array([4,0.4,1]), color=BLUE).shift(OUT*-2.2,UP*0.6).rotate(1,axis=LEFT )\n",
    "        bottomUpArrow2 = Arrow3D(end=np.array([1.7,1.3,0]),start=np.array([1.7,0.4,1]), color=BLUE).shift(OUT*-2.2,UP*0.6).rotate(1,axis=LEFT )\n",
    "        bottomUpArrow3 = Arrow3D(end=np.array([4.4,1.3,0]),start=np.array([4.4,0.2,1]), color=BLUE).shift(OUT*-2.2,UP*2.5).rotate(1,axis=LEFT )\n",
    "        bottomUpArrow4 = Arrow3D(end=np.array([1.8,1.3,0]),start=np.array([1.8,0.2,1]), color=BLUE).shift(OUT*-2,UP*2.3).rotate(1,axis=LEFT )\n",
    "        topDownArrow1 = Arrow3D(start=np.array([-4.2,1.3,0]),end=np.array([-4.2,0.4,1]),color=GREEN).shift(OUT*-2.2).rotate(1,axis=LEFT )\n",
    "        topDownArrow2 = Arrow3D(start=np.array([-1.8,1.2,0]),end=np.array([-1.8,0,1]), color=GREEN).shift(OUT*-2.2).rotate(1,axis=LEFT )\n",
    "        topDownArrow3 = Arrow3D(start=np.array([-4,2,0]),end=np.array([-4,1,1]), color=GREEN).shift(OUT*-2.4,UP*2.5).rotate(1,axis=LEFT )\n",
    "        topDownArrow4 = Arrow3D(start=np.array([-1.4,2.1,0]),end=np.array([-1.4,1,1]), color=GREEN).shift(OUT*-2.4,UP*2.5).rotate(1,axis=LEFT )\n",
    "        self.play(FadeIn(circle1))\n",
    "        self.play(FadeIn(entity1))\n",
    "        self.wait(1)\n",
    "        self.play(FadeOut(entity1))\n",
    "        self.play(FadeIn(circle2))\n",
    "        self.play(FadeIn(relationArrow))\n",
    "        self.play(FadeIn(relationText))\n",
    "        self.wait(1)\n",
    "        self.play(FadeOut(relationText))\n",
    "        self.play(FadeIn(circle3),FadeIn(circle4))\n",
    "        self.play(FadeIn(relationArrow2),FadeIn(relationArrow3),FadeIn(relationArrow4),FadeIn(relationArrow5),FadeIn(relationArrow6))\n",
    "        self.play(FadeIn(accumulation))\n",
    "        self.wait(1)\n",
    "        self.play(FadeOut(acßcumulation))\n",
    "        self.play(FadeIn(backGround))\n",
    "        self.play(FadeIn(Emergent))\n",
    "        self.wait(1)\n",
    "        self.play(FadeOut(Emergent))\n",
    "        self.play(FadeIn(copy1))\n",
    "        self.play(FadeIn(relationArrow7))\n",
    "        self.move_camera(phi=250 * DEGREES, zoom=1, run_time=2)\n",
    "        self.play(FadeIn(bottomUp))\n",
    "        self.play(\n",
    "            FadeIn(bottomUpArrow1),\n",
    "            FadeIn(bottomUpArrow2),\n",
    "            FadeIn(bottomUpArrow3),\n",
    "            FadeIn(bottomUpArrow4))     \n",
    "        self.wait(1)\n",
    "        self.play(FadeIn(topDown))\n",
    "        \n",
    "        self.play(\n",
    "        FadeIn(topDownArrow1),\n",
    "        FadeIn(topDownArrow2),\n",
    "        FadeIn(topDownArrow3),\n",
    "        FadeIn(topDownArrow4)) \n",
    "        self.wait(1)"
   ]
  },
  {
   "cell_type": "code",
   "execution_count": null,
   "metadata": {},
   "outputs": [],
   "source": []
  },
  {
   "cell_type": "code",
   "execution_count": 49,
   "metadata": {},
   "outputs": [
    {
     "name": "stderr",
     "output_type": "stream",
     "text": [
      "                                                                                                   \r"
     ]
    },
    {
     "data": {
      "text/html": [
       "<video src=\"media/jupyter/Axes3DExample@2024-04-23@21-49-03.mp4\" controls autoplay loop style=\"max-width: 60%;\"  >\n",
       "      Your browser does not support the <code>video</code> element.\n",
       "    </video>"
      ],
      "text/plain": [
       "<IPython.core.display.Video object>"
      ]
     },
     "metadata": {},
     "output_type": "display_data"
    }
   ],
   "source": []
  },
  {
   "cell_type": "code",
   "execution_count": null,
   "metadata": {},
   "outputs": [],
   "source": []
  }
 ],
 "metadata": {
  "kernelspec": {
   "display_name": "Python 3",
   "language": "python",
   "name": "python3"
  },
  "language_info": {
   "codemirror_mode": {
    "name": "ipython",
    "version": 3
   },
   "file_extension": ".py",
   "mimetype": "text/x-python",
   "name": "python",
   "nbconvert_exporter": "python",
   "pygments_lexer": "ipython3",
   "version": "3.9.6"
  }
 },
 "nbformat": 4,
 "nbformat_minor": 2
}
