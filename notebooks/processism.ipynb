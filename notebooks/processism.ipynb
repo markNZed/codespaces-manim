{
 "cells": [
  {
   "cell_type": "code",
   "execution_count": 1,
   "metadata": {},
   "outputs": [
    {
     "name": "stderr",
     "output_type": "stream",
     "text": [
      "/Users/ahmedhesham/Library/Python/3.9/lib/python/site-packages/urllib3/__init__.py:35: NotOpenSSLWarning: urllib3 v2 only supports OpenSSL 1.1.1+, currently the 'ssl' module is compiled with 'LibreSSL 2.8.3'. See: https://github.com/urllib3/urllib3/issues/3020\n",
      "  warnings.warn(\n"
     ]
    },
    {
     "data": {
      "text/html": [
       "<pre style=\"white-space:pre;overflow-x:auto;line-height:normal;font-family:Menlo,'DejaVu Sans Mono',consolas,'Courier New',monospace\">Manim Community <span style=\"color: #008000; text-decoration-color: #008000\">v0.18.0</span>\n",
       "\n",
       "</pre>\n"
      ],
      "text/plain": [
       "Manim Community \u001b[32mv0.\u001b[0m\u001b[32m18.0\u001b[0m\n",
       "\n"
      ]
     },
     "metadata": {},
     "output_type": "display_data"
    }
   ],
   "source": [
    "from manim import *"
   ]
  },
  {
   "cell_type": "code",
   "execution_count": 122,
   "metadata": {},
   "outputs": [
    {
     "name": "stderr",
     "output_type": "stream",
     "text": [
      "                                                                                              \r"
     ]
    },
    {
     "data": {
      "text/html": [
       "<video src=\"media/jupyter/processism@2024-04-23@22-32-52.mp4\" controls autoplay loop style=\"max-width: 60%;\"  >\n",
       "      Your browser does not support the <code>video</code> element.\n",
       "    </video>"
      ],
      "text/plain": [
       "<IPython.core.display.Video object>"
      ]
     },
     "metadata": {},
     "output_type": "display_data"
    }
   ],
   "source": [
    "%%manim -ql --fps 30 -v WARNING processism\n",
    "\n",
    "\n",
    "class processism(ThreeDScene):\n",
    "    def construct(self):\n",
    "        self.camera.background_color = GREY\n",
    "        plane = NumberPlane()\n",
    "        self.add(plane)\n",
    "        scaler = 0.3\n",
    "        textScale = 0.5\n",
    "        stroke_width = 2\n",
    "\n",
    "        circle1 = Circle(color=BLUE, fill_opacity=1).scale(scaler).to_edge(LEFT).shift(RIGHT,UP)\n",
    "        circle2 = Circle(color=BLUE, fill_opacity=1).scale(scaler).next_to(circle1, RIGHT).shift(RIGHT*2)\n",
    "        entity1 = Text(\"An entity\",color=BLACK).next_to(circle1, UP).scale(textScale)\n",
    "        circle3 = Circle(color=BLUE, fill_opacity=1).scale(scaler).next_to(circle2, DOWN).shift(DOWN*2)\n",
    "        circle4 = Circle(color=BLUE, fill_opacity=1).scale(scaler).next_to(circle1, DOWN).shift(DOWN*2)\n",
    "        relationArrow = DoubleArrow(circle1.get_right(), circle2.get_left(), buff=0.1, color=BLUE)\n",
    "        relationText = Text(\"A relation\",color=BLACK).next_to(relationArrow, UP).scale(textScale)\n",
    "        accumulation = Text(\"Accumulation\",color=BLACK).next_to(relationArrow, UP).scale(textScale)\n",
    "        circle2.shift(RIGHT*0.3)\n",
    "        relationArrow2 = DoubleArrow(circle1.get_bottom(), circle4.get_top(), buff=0.1, color=BLUE)\n",
    "        relationArrow3 = DoubleArrow(circle2.get_bottom(), circle3.get_top(), buff=0.1, color=BLUE)\n",
    "        relationArrow4 = DoubleArrow(circle3.get_left(), circle4.get_right(), buff=0.1, color=BLUE)\n",
    "        relationArrow5 = DoubleArrow(circle4.get_right(), circle2.get_left(), buff=0.1, color=BLUE)\n",
    "        relationArrow6 = DoubleArrow(circle3.get_left()+0.1, circle1.get_right()-0.1, buff=0.1, color=BLUE)\n",
    "    \n",
    "        backGround = Circle(color=GREEN, fill_opacity=0.2).scale(2.6).to_edge(LEFT).shift(DOWN*0.5,RIGHT*0.3)\n",
    "        Emergent = Text(\"Emergent entity\",color=BLACK).next_to(backGround, UP).scale(textScale)\n",
    "        #VG \n",
    "        copy = VGroup(backGround,circle1, circle2, circle3, circle4, relationArrow, relationArrow2, relationArrow3, relationArrow4, relationArrow5, relationArrow6 )\n",
    "        copy1 = copy.copy()\n",
    "        copy1.to_edge(RIGHT)\n",
    "        relationArrow7 = DoubleArrow(copy[0].get_right(), copy1[0].get_left(), buff=0.1, color=GREEN)\n",
    "        # self.set_camera_orientation(phi=0 * DEGREES, theta=0* DEGREES)\n",
    "\n",
    "        self.play(FadeIn(circle1))\n",
    "        self.play(FadeIn(entity1))\n",
    "        self.wait(1)\n",
    "        self.play(FadeOut(entity1))\n",
    "        self.play(FadeIn(circle2))\n",
    "        self.play(FadeIn(relationArrow))\n",
    "        self.play(FadeIn(relationText))\n",
    "        self.wait(1)\n",
    "        self.play(FadeOut(relationText))\n",
    "        self.play(FadeIn(circle3),FadeIn(circle4))\n",
    "        self.play(FadeIn(relationArrow2),FadeIn(relationArrow3),FadeIn(relationArrow4),FadeIn(relationArrow5),FadeIn(relationArrow6))\n",
    "        self.play(FadeIn(accumulation))\n",
    "        self.wait(1)\n",
    "        self.play(FadeOut(accumulation))\n",
    "        self.play(FadeIn(backGround))\n",
    "        self.play(FadeIn(Emergent))\n",
    "        self.wait(1)\n",
    "        self.play(FadeOut(Emergent))\n",
    "        self.play(FadeIn(copy1))\n",
    "        self.play(FadeIn(relationArrow7))\n",
    "        # self.play(FadeOut(copy1),FadeOut(relationArrow7),FadeOut(copy))\n",
    "        self.play(FadeOut(relationArrow7))\n",
    "        self.play(\n",
    "            Rotate(VGroup(copy[0],copy1[0]),90*DEGREES,np.array([1,0,0])) ,run_time=3, rate_func=linear)\n",
    "        \n",
    "        self.play(VGroup(copy[0],copy1[0]).animate.shift(UP*2))\n",
    "        lastRelationArrow = DoubleArrow(copy[0].get_right(), copy1[0].get_left(), buff=0.1, color=GREEN)\n",
    "        self.play(FadeIn(lastRelationArrow))\n",
    "        self.play(Rotate(VGroup(copy[1:],copy1[1:]),120*DEGREES,np.array([1,0,0])) ,run_time=3, rate_func=linear)\n",
    "        topDown = Text(\"Top-down\",color=BLACK).next_to(copy[0], UP).scale(textScale).shift(LEFT*2)\n",
    "        bottomUp = Text(\"Bottom-up\",color=BLACK).next_to(copy1[0], UP).scale(textScale).shift(RIGHT*2)\n",
    "        topDownArrow1 = Arrow(start=[-5,1.5,0],end=[-5,0.4,0],buff=0.1, color=GREEN) \n",
    "        topDownArrow2 = Arrow(start=[-2.3,1.5,0],end=[-2.3,0.4,0],buff=0.1, color=GREEN) \n",
    "        topDownArrow3 = Arrow(start=[-5.8,1.5,0],end=[-5.8,-1,0],buff=0.1, color=GREEN) \n",
    "        topDownArrow4 = Arrow(start=[-5.8,1.5,0],end=[-5.8,-1,0],buff=0.1, color=GREEN)\n",
    "        topDownArrow5 = Arrow(start=[-2.2,1.5,0],end=[-2.2,-1,0],buff=0.1, color=GREEN)\n",
    "\n",
    "        bottomUpArrow1 = Arrow(end=[5,1.5,0],start=[5,0.4,0],buff=0.1, color=BLUE)\n",
    "        bottomUpArrow2 = Arrow(end=[2.3,1.5,0],start=[2.3,0.4,0],buff=0.1, color=BLUE)\n",
    "        bottomUpArrow3 = Arrow(end=[5.8,1.5,0],start=[5.8,-1,0],buff=0.1, color=BLUE)\n",
    "        bottomUpArrow4 = Arrow(end=[5.8,1.5,0],start=[5.8,-1,0],buff=0.1, color=BLUE)\n",
    "        bottomUpArrow5 = Arrow(end=[2.5,1.5,0],start=[2.5,-1,0],buff=0.1, color=BLUE)\n",
    "        \n",
    "\n",
    "        self.play(FadeIn(topDown),FadeIn(bottomUp))\n",
    "        self.play(FadeIn(topDownArrow1),FadeIn(topDownArrow2),FadeIn(topDownArrow3),FadeIn(topDownArrow4),FadeIn(topDownArrow5),FadeIn(bottomUpArrow1),FadeIn(bottomUpArrow2),FadeIn(bottomUpArrow3),FadeIn(bottomUpArrow4),FadeIn(bottomUpArrow5))\n",
    "    \n",
    "        self.wait(1)\n",
    "\n",
    "\n",
    "\n",
    "\n",
    "\n",
    "        # self.add(circle1, circle2, entity1, relationArrow, relationText, circle3, circle4, relationArrow2, relationArrow3, relationArrow4, relationArrow5, relationArrow6, backGround, Emergent,copy1,relationArrow7)\n",
    "        "
   ]
  },
  {
   "cell_type": "code",
   "execution_count": null,
   "metadata": {},
   "outputs": [],
   "source": []
  },
  {
   "cell_type": "code",
   "execution_count": 49,
   "metadata": {},
   "outputs": [
    {
     "name": "stderr",
     "output_type": "stream",
     "text": [
      "                                                                                                   \r"
     ]
    },
    {
     "data": {
      "text/html": [
       "<video src=\"media/jupyter/Axes3DExample@2024-04-23@21-49-03.mp4\" controls autoplay loop style=\"max-width: 60%;\"  >\n",
       "      Your browser does not support the <code>video</code> element.\n",
       "    </video>"
      ],
      "text/plain": [
       "<IPython.core.display.Video object>"
      ]
     },
     "metadata": {},
     "output_type": "display_data"
    }
   ],
   "source": [
    "%%manim -v ERROR --disable_caching -ql Axes3DExample\n",
    "\n",
    "\n",
    "class Axes3DExample(ThreeDScene):\n",
    "    def construct(self):\n",
    "        self.set_camera_orientation(phi=0 * DEGREES, theta=0* DEGREES)\n",
    "\n",
    "        axes = ThreeDAxes()\n",
    "        circle = Circle(radius=1, color=RED)\n",
    "        path = Arc(radius=1, angle=45*DEGREES,stroke_width=0.1)\n",
    "        self.add(circle, axes)\n",
    "\n",
    "\n",
    "        sphere = Sphere(radius=0.1,color=RED).shift(RIGHT)\n",
    "        \n",
    "        Everything = VGroup()\n",
    "        Everything.add(axes)\n",
    "        Everything.add(circle)\n",
    "        Everything.add(sphere)\n",
    "        Everything.add(path)\n",
    "        \n",
    "        self.play(Rotate(Everything,45*DEGREES,np.array([0,1,0])),MoveAlongPath(sphere, path), run_time=3, rate_func=linear)\n",
    "\n",
    "        self.wait()"
   ]
  },
  {
   "cell_type": "code",
   "execution_count": null,
   "metadata": {},
   "outputs": [],
   "source": []
  }
 ],
 "metadata": {
  "kernelspec": {
   "display_name": "Python 3",
   "language": "python",
   "name": "python3"
  },
  "language_info": {
   "codemirror_mode": {
    "name": "ipython",
    "version": 3
   },
   "file_extension": ".py",
   "mimetype": "text/x-python",
   "name": "python",
   "nbconvert_exporter": "python",
   "pygments_lexer": "ipython3",
   "version": "3.9.6"
  }
 },
 "nbformat": 4,
 "nbformat_minor": 2
}
