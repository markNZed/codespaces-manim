{
 "cells": [
  {
   "cell_type": "code",
   "execution_count": 1,
   "metadata": {},
   "outputs": [
    {
     "name": "stderr",
     "output_type": "stream",
     "text": [
      "/Users/ahmedhesham/Library/Python/3.9/lib/python/site-packages/urllib3/__init__.py:35: NotOpenSSLWarning: urllib3 v2 only supports OpenSSL 1.1.1+, currently the 'ssl' module is compiled with 'LibreSSL 2.8.3'. See: https://github.com/urllib3/urllib3/issues/3020\n",
      "  warnings.warn(\n"
     ]
    },
    {
     "data": {
      "text/html": [
       "<pre style=\"white-space:pre;overflow-x:auto;line-height:normal;font-family:Menlo,'DejaVu Sans Mono',consolas,'Courier New',monospace\">Manim Community <span style=\"color: #008000; text-decoration-color: #008000\">v0.18.0</span>\n",
       "\n",
       "</pre>\n"
      ],
      "text/plain": [
       "Manim Community \u001b[32mv0.\u001b[0m\u001b[32m18.0\u001b[0m\n",
       "\n"
      ]
     },
     "metadata": {},
     "output_type": "display_data"
    }
   ],
   "source": [
    "from manim import *\n"
   ]
  },
  {
   "cell_type": "code",
   "execution_count": 2,
   "metadata": {},
   "outputs": [],
   "source": [
    "def create_end(center):\n",
    "    return np.array([center[0] , center[1] , -2])\n",
    "\n",
    "def create_start(center):\n",
    "    return np.array([center[0] , center[1] , 0.1])"
   ]
  },
  {
   "cell_type": "code",
   "execution_count": 3,
   "metadata": {},
   "outputs": [],
   "source": [
    "class DoubleArrow3D(Line3D):\n",
    "    def __init__(\n",
    "            self,\n",
    "            start: np.ndarray = LEFT,\n",
    "            end: np.ndarray = RIGHT,\n",
    "            thickness: float = 0.02,\n",
    "            height: float = 0.3,\n",
    "            base_radius: float = 0.08,\n",
    "            color: ParsableManimColor = WHITE,\n",
    "            **kwargs,\n",
    "        ) -> None:\n",
    "            super().__init__(\n",
    "                start=start, end=end, thickness=thickness, color=color, **kwargs\n",
    "            )\n",
    "\n",
    "            self.length = np.linalg.norm(self.vect)\n",
    "            self.set_start_and_end_attrs(\n",
    "                self.start - height * -self.direction,\n",
    "                self.end - height * self.direction,\n",
    "                **kwargs,\n",
    "            )\n",
    "\n",
    "            self.cone = Cone(\n",
    "                direction=self.direction, base_radius=base_radius, height=height, **kwargs\n",
    "            )\n",
    "            self.cone2 = Cone(\n",
    "                 direction=-self.direction, base_radius=base_radius, height=height, **kwargs\n",
    " \n",
    "            )\n",
    "            self.cone.shift(end)\n",
    "            self.cone2.shift(start)\n",
    "            self.add(self.cone, self.cone2)\n",
    "            self.set_color(color)\n",
    "    "
   ]
  },
  {
   "cell_type": "code",
   "execution_count": 5,
   "metadata": {},
   "outputs": [
    {
     "name": "stderr",
     "output_type": "stream",
     "text": [
      "                                                                                                             \r"
     ]
    },
    {
     "data": {
      "text/html": [
       "<video src=\"media/jupyter/processism@2024-04-26@18-07-43.mp4\" controls autoplay loop style=\"max-width: 60%;\"  >\n",
       "      Your browser does not support the <code>video</code> element.\n",
       "    </video>"
      ],
      "text/plain": [
       "<IPython.core.display.Video object>"
      ]
     },
     "metadata": {},
     "output_type": "display_data"
    }
   ],
   "source": [
    "%%manim -ql --disable_caching --fps  30 -v WARNING processism\n",
    "\n",
    "\n",
    "class processism(ThreeDScene):\n",
    "    def setup(self):\n",
    "        self.camera.background_color = GREY\n",
    "        self.set_camera_orientation(phi=360 * DEGREES, theta=-90 * DEGREES)\n",
    "        self.renderer.camera.light_source.move_to(3 *UP + 5 *LEFT)\n",
    "        self.renderer.camera.ambient_light = 1.0 # Increase ambient light for less shadow\n",
    "\n",
    "    def construct(self):\n",
    "     \n",
    "        scaler = 0.25\n",
    "        textScale = 0.5\n",
    "        stroke_width = 2\n",
    "        \n",
    "        entity_circle1 = Sphere(color=BLUE, fill_opacity=1).scale(scaler).to_edge(LEFT).shift(RIGHT,UP)\n",
    "        entity_circle2 = Sphere(color=BLUE, fill_opacity=1).scale(scaler).next_to(entity_circle1, RIGHT).shift(RIGHT*2)\n",
    "        entity_circle3 = Sphere(color=BLUE, fill_opacity=1).scale(scaler).next_to(entity_circle2, DOWN).shift(DOWN*2)\n",
    "        entity_circle4 = Sphere(color=BLUE, fill_opacity=1).scale(scaler).next_to(entity_circle1, DOWN).shift(DOWN*2)\n",
    "        entity_circle2.shift(RIGHT*0.3)\n",
    "\n",
    "        relation_arrow = DoubleArrow3D(entity_circle1.get_right(), entity_circle2.get_left(), color=BLUE)\n",
    "        relation_arrow2 = DoubleArrow3D(entity_circle1.get_bottom(), entity_circle4.get_top(), color=BLUE)\n",
    "        relation_arrow3 = DoubleArrow3D(entity_circle2.get_bottom(), entity_circle3.get_top(), color=BLUE)\n",
    "        relation_arrow4 = DoubleArrow3D(entity_circle3.get_left(), entity_circle4.get_right(),  color=BLUE)\n",
    "        relation_arrow5 = DoubleArrow3D(entity_circle4.get_right(), entity_circle2.get_left(),  color=BLUE)\n",
    "        relation_arrow6 = DoubleArrow3D(entity_circle3.get_left()+0.1, entity_circle1.get_right()-0.1,  color=BLUE)\n",
    "\n",
    "        emergent_entity = Circle(color=GREEN, fill_opacity=0.2).scale(2.7).to_edge(LEFT).shift(DOWN*0.5,UP*0.3,RIGHT,OUT*-2)\n",
    "        VGroup(entity_circle1, entity_circle2, entity_circle3, entity_circle4, relation_arrow, relation_arrow2, relation_arrow3, relation_arrow4, relation_arrow5, relation_arrow6).move_to(emergent_entity).shift(OUT*2)\n",
    "        top_down_elements = VGroup(emergent_entity,entity_circle1, entity_circle2, entity_circle3, entity_circle4, relation_arrow, relation_arrow2, relation_arrow3, relation_arrow4, relation_arrow5, relation_arrow6)\n",
    "        bottom_up_elements = top_down_elements.copy()\n",
    "        bottom_up_elements.to_edge(RIGHT)\n",
    "        emergent_entity.shift(LEFT*0.3)\n",
    "        bottom_up_elements[0].shift(RIGHT*0.3)\n",
    "        VGroup(bottom_up_elements,top_down_elements).shift(LEFT*0.4)\n",
    "        relation_arrow7 = DoubleArrow3D(top_down_elements[0].get_right(), bottom_up_elements[0].get_left(), color=GREEN)\n",
    "        entity_text = Text(\"An entity\",color=BLACK).next_to(entity_circle1, UP).scale(textScale)\n",
    "        relation_text = Text(\"A relation\",color=BLACK).next_to(relation_arrow, UP).scale(textScale)\n",
    "        accumulation = Text(\"Accumulation\",color=BLACK).next_to(relation_arrow, UP).scale(textScale)\n",
    "        emergent = Text(\"emergent entity\",color=BLACK).next_to(emergent_entity, UP).scale(textScale) \n",
    "        topDown_text = Text(\"Top-down\",color=BLACK).next_to(top_down_elements[0], OUT).scale(textScale).shift(RIGHT*2,UP*1,OUT*-1.5).rotate(2,axis=LEFT)\n",
    "        bottomUp_text = Text(\"Bottom-up\",color=BLACK).next_to(bottom_up_elements[0],  OUT).scale(textScale).shift(RIGHT*1.5,UP*1,OUT*-1.5).rotate(2,axis=LEFT)\n",
    "        \n",
    "  \n",
    "\n",
    "        center_bottomUp_arrow1 = bottom_up_elements[1].get_center()\n",
    "        endBottomUpArrow1 = create_end(center_bottomUp_arrow1)\n",
    "        startBottomUpArrow1 = create_start(center_bottomUp_arrow1)\n",
    "\n",
    "        center_bottomUp_arrow2 = bottom_up_elements[2].get_center()\n",
    "        endBottomUpArrow2 = create_end(center_bottomUp_arrow2)\n",
    "        startBottomUpArrow2 = create_start(center_bottomUp_arrow2)\n",
    "\n",
    "        center_bottomUp_arrow3 = bottom_up_elements[3].get_center()\n",
    "        endBottomUpArrow3 = create_end(center_bottomUp_arrow3)\n",
    "        startBottomUpArrow3 = create_start(center_bottomUp_arrow3)\n",
    "\n",
    "        center_bottomUp_arrow4 = bottom_up_elements[4].get_center()\n",
    "        endBottomUpArrow4 = create_end(center_bottomUp_arrow4)\n",
    "        startBottomUpArrow4 = create_start(center_bottomUp_arrow4)\n",
    "\n",
    "\n",
    "        bottomUp_arrow1 = Arrow3D(end=endBottomUpArrow1,start=startBottomUpArrow1, color=BLUE)\n",
    "        bottomUp_arrow2 = Arrow3D(end=endBottomUpArrow2,start=startBottomUpArrow2, color=BLUE)\n",
    "        bottomUp_arrow3 = Arrow3D(end=endBottomUpArrow3,start=startBottomUpArrow3, color=BLUE)\n",
    "        bottomUp_arrow4 = Arrow3D(end=endBottomUpArrow4,start=startBottomUpArrow4, color=BLUE)\n",
    "\n",
    "\n",
    "        center_topDown_arrow1 = top_down_elements[1].get_center()\n",
    "        endTopDownArrow1 = create_end(center_topDown_arrow1)\n",
    "        startTopDownArrow1 = create_start(center_topDown_arrow1)\n",
    "\n",
    "        center_topDown_arrow2 = top_down_elements[2].get_center()\n",
    "        endTopDownArrow2 = create_end(center_topDown_arrow2)\n",
    "        startTopDownArrow2 = create_start(center_topDown_arrow2)\n",
    "\n",
    "        center_topDown_arrow3 = top_down_elements[3].get_center()\n",
    "        endTopDownArrow3 = create_end(center_topDown_arrow3)\n",
    "        startTopDownArrow3 = create_start(center_topDown_arrow3)\n",
    "\n",
    "        center_topDown_arrow4 = top_down_elements[4].get_center()\n",
    "        endTopDownArrow4 = create_end(center_topDown_arrow4)\n",
    "        startTopDownArrow4 = create_start(center_topDown_arrow4)\n",
    "\n",
    "        top_down_arrow1 = Arrow3D(start=endTopDownArrow1,end=startTopDownArrow1, color=GREEN)\n",
    "        top_down_arrow2 = Arrow3D(start=endTopDownArrow2,end=startTopDownArrow2, color=GREEN)\n",
    "        top_down_arrow3 = Arrow3D(start=endTopDownArrow3,end=startTopDownArrow3, color=GREEN)\n",
    "        top_down_arrow4 = Arrow3D(start=endTopDownArrow4,end=startTopDownArrow4, color=GREEN)\n",
    "\n",
    "\n",
    "        self.play(FadeIn(entity_circle1))\n",
    "        self.play(FadeIn(entity_text))\n",
    "        self.wait(1)\n",
    "        self.play(FadeOut(entity_text))\n",
    "        self.play(FadeIn(entity_circle2))\n",
    "        self.play(FadeIn(relation_arrow))\n",
    "        self.play(FadeIn(relation_text))\n",
    "        self.wait(1)\n",
    "        self.play(FadeOut(relation_text))\n",
    "        self.play(FadeIn(entity_circle3),FadeIn(entity_circle4))\n",
    "        self.play(FadeIn(relation_arrow2),FadeIn(relation_arrow3),FadeIn(relation_arrow4),FadeIn(relation_arrow5),FadeIn(relation_arrow6))\n",
    "        self.play(FadeIn(accumulation))\n",
    "        self.wait(1)\n",
    "        self.play(FadeOut(accumulation))\n",
    "        self.play(FadeIn(emergent_entity))\n",
    "        self.play(FadeIn(emergent))\n",
    "        self.wait(1)\n",
    "        self.play(FadeOut(emergent))\n",
    "        self.play(FadeIn(bottom_up_elements))\n",
    "        self.play(FadeIn(relation_arrow7))\n",
    "        self.move_camera(phi=250 * DEGREES, zoom=1, run_time=2)\n",
    "        self.play(FadeIn(bottomUp_text))\n",
    "        self.play(\n",
    "            FadeIn(bottomUp_arrow1),\n",
    "            FadeIn(bottomUp_arrow2),\n",
    "            FadeIn(bottomUp_arrow3),\n",
    "            FadeIn(bottomUp_arrow4))    \n",
    "        \n",
    "        self.wait(1)\n",
    "        self.play(FadeIn(topDown_text))\n",
    "        \n",
    "        self.play(\n",
    "        FadeIn(top_down_arrow1),\n",
    "        FadeIn(top_down_arrow2),\n",
    "        FadeIn(top_down_arrow3),\n",
    "        FadeIn(top_down_arrow4)) "
   ]
  },
  {
   "cell_type": "code",
   "execution_count": null,
   "metadata": {},
   "outputs": [],
   "source": []
  }
 ],
 "metadata": {
  "kernelspec": {
   "display_name": "Python 3",
   "language": "python",
   "name": "python3"
  },
  "language_info": {
   "codemirror_mode": {
    "name": "ipython",
    "version": 3
   },
   "file_extension": ".py",
   "mimetype": "text/x-python",
   "name": "python",
   "nbconvert_exporter": "python",
   "pygments_lexer": "ipython3",
   "version": "3.9.6"
  }
 },
 "nbformat": 4,
 "nbformat_minor": 2
}
